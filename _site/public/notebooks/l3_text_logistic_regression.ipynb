{
  "nbformat": 4,
  "nbformat_minor": 0,
  "metadata": {
    "colab": {
      "name": "l2-text-logistic-regression.ipynb",
      "version": "0.3.2",
      "provenance": [],
      "collapsed_sections": []
    },
    "kernelspec": {
      "display_name": "Python 3",
      "language": "python",
      "name": "python3"
    }
  },
  "cells": [
    {
      "metadata": {
        "id": "iizpH_l6JRXU",
        "colab_type": "code",
        "colab": {}
      },
      "cell_type": "code",
      "source": [
        "# Import required modules and classes\n",
        "%matplotlib inline\n",
        "import matplotlib.pyplot as plt\n",
        "from sklearn.linear_model import LogisticRegression\n",
        "from sklearn.feature_extraction.text import CountVectorizer"
      ],
      "execution_count": 0,
      "outputs": []
    },
    {
      "metadata": {
        "id": "FbrhTmIaJRXo",
        "colab_type": "code",
        "colab": {}
      },
      "cell_type": "code",
      "source": [
        "# Our data\n",
        "# We have 4 documents, each is a string.\n",
        "# The labels indicate whether the document is about CUHK\n",
        "docs = [\n",
        "    \"CUHK is a university in Hong Kong\",\n",
        "    \"Hong Kong is a city in Southeast Asia\",\n",
        "    \"Asia is the most populous continent\",\n",
        "    \"CUHK is located in Shatin\"\n",
        "]\n",
        "labels = [1, 0, 0, 1]"
      ],
      "execution_count": 0,
      "outputs": []
    },
    {
      "metadata": {
        "id": "p8qiwN-UJRX0",
        "colab_type": "code",
        "colab": {}
      },
      "cell_type": "code",
      "source": [
        "# Initialize the vectorizer and the LR model\n",
        "vectorizer = CountVectorizer()\n",
        "model = LogisticRegression()"
      ],
      "execution_count": 0,
      "outputs": []
    },
    {
      "metadata": {
        "id": "0G8La4pUJRX-",
        "colab_type": "code",
        "colab": {
          "base_uri": "https://localhost:8080/",
          "height": 90
        },
        "outputId": "a635c2f9-4025-4a06-92b7-f98b90b11320"
      },
      "cell_type": "code",
      "source": [
        "# Train the vectorizer and the model\n",
        "# We use fit_transform to fit the model and transform\n",
        "# our documents into feature vectors in one step\n",
        "X = vectorizer.fit_transform(docs)\n",
        "model.fit(X, labels)"
      ],
      "execution_count": 4,
      "outputs": [
        {
          "output_type": "execute_result",
          "data": {
            "text/plain": [
              "LogisticRegression(C=1.0, class_weight=None, dual=False, fit_intercept=True,\n",
              "          intercept_scaling=1, max_iter=100, multi_class='ovr', n_jobs=1,\n",
              "          penalty='l2', random_state=None, solver='liblinear', tol=0.0001,\n",
              "          verbose=0, warm_start=False)"
            ]
          },
          "metadata": {
            "tags": []
          },
          "execution_count": 4
        }
      ]
    },
    {
      "metadata": {
        "id": "qIZnUCZNJRYI",
        "colab_type": "code",
        "colab": {
          "base_uri": "https://localhost:8080/",
          "height": 290
        },
        "outputId": "3ef56e95-e6c6-468b-a156-09d6918c99ee"
      },
      "cell_type": "code",
      "source": [
        "# Let's take a look at our vocabulary\n",
        "vectorizer.vocabulary_"
      ],
      "execution_count": 5,
      "outputs": [
        {
          "output_type": "execute_result",
          "data": {
            "text/plain": [
              "{'asia': 0,\n",
              " 'city': 1,\n",
              " 'continent': 2,\n",
              " 'cuhk': 3,\n",
              " 'hong': 4,\n",
              " 'in': 5,\n",
              " 'is': 6,\n",
              " 'kong': 7,\n",
              " 'located': 8,\n",
              " 'most': 9,\n",
              " 'populous': 10,\n",
              " 'shatin': 11,\n",
              " 'southeast': 12,\n",
              " 'the': 13,\n",
              " 'university': 14}"
            ]
          },
          "metadata": {
            "tags": []
          },
          "execution_count": 5
        }
      ]
    },
    {
      "metadata": {
        "id": "nIiW82XtJRYQ",
        "colab_type": "code",
        "colab": {
          "base_uri": "https://localhost:8080/",
          "height": 72
        },
        "outputId": "deba8eb2-39c8-4629-c090-520862065527"
      },
      "cell_type": "code",
      "source": [
        "# The weights learnt in the model\n",
        "# Note that we have 15 weights (vocabulary size)\n",
        "model.coef_"
      ],
      "execution_count": 12,
      "outputs": [
        {
          "output_type": "execute_result",
          "data": {
            "text/plain": [
              "array([[-0.50064704, -0.29108559, -0.20956145,  0.50627608, -0.01686009,\n",
              "         0.21519048,  0.00562903, -0.01686009,  0.23205058, -0.20956145,\n",
              "        -0.20956145,  0.23205058, -0.29108559, -0.20956145,  0.2742255 ]])"
            ]
          },
          "metadata": {
            "tags": []
          },
          "execution_count": 12
        }
      ]
    },
    {
      "metadata": {
        "id": "Q-vXpv6zJY1a",
        "colab_type": "code",
        "colab": {
          "base_uri": "https://localhost:8080/",
          "height": 424
        },
        "outputId": "7b20ec54-aa07-4db9-9874-fb76e184969c"
      },
      "cell_type": "code",
      "source": [
        "# Plot the weights of each word\n",
        "x = sorted([w for w in vectorizer.vocabulary_])\n",
        "y = model.coef_[0]\n",
        "plt.figure(figsize=(16, 6))\n",
        "plt.bar(x, y)\n",
        "ticks = plt.xticks(range(15), x, rotation=45, fontsize=16)"
      ],
      "execution_count": 15,
      "outputs": [
        {
          "output_type": "display_data",
          "data": {
            "image/png": "[encoded data removed]",
            "text/plain": [
              "<matplotlib.figure.Figure at 0x7f53dd63b710>"
            ]
          },
          "metadata": {
            "tags": []
          }
        }
      ]
    },
    {
      "metadata": {
        "id": "QBFyGk6QJRYY",
        "colab_type": "code",
        "colab": {
          "base_uri": "https://localhost:8080/",
          "height": 35
        },
        "outputId": "480b4b1b-714c-4903-a4cc-58da96c667b0"
      },
      "cell_type": "code",
      "source": [
        "# Let's try applying the model on a new document\n",
        "model.predict_proba(vectorizer.transform([\"CUHK university\"]))"
      ],
      "execution_count": 16,
      "outputs": [
        {
          "output_type": "execute_result",
          "data": {
            "text/plain": [
              "array([[0.31300011, 0.68699989]])"
            ]
          },
          "metadata": {
            "tags": []
          },
          "execution_count": 16
        }
      ]
    },
    {
      "metadata": {
        "id": "GORzprUBJRYi",
        "colab_type": "code",
        "colab": {}
      },
      "cell_type": "code",
      "source": [
        ""
      ],
      "execution_count": 0,
      "outputs": []
    }
  ]
}