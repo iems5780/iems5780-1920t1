{
 "cells": [
  {
   "cell_type": "code",
   "execution_count": 1,
   "metadata": {},
   "outputs": [],
   "source": [
    "%matplotlib inline\n",
    "import numpy as np\n",
    "import math\n",
    "import matplotlib.pyplot as plt"
   ]
  },
  {
   "cell_type": "code",
   "execution_count": 6,
   "metadata": {},
   "outputs": [
    {
     "data": {
      "image/png": "[encoded data removed]",
      "text/plain": [
       "<matplotlib.figure.Figure at 0x7fad1e4733c8>"
      ]
     },
     "metadata": {},
     "output_type": "display_data"
    }
   ],
   "source": [
    "# Our mode: y = mx\n",
    "\n",
    "# Training data\n",
    "x = (1,2,3,4)\n",
    "y = (2.4, 3.5, 5.5, 8.7)\n",
    "\n",
    "plt.figure(figsize=(4, 6))\n",
    "plt.scatter(x, y)\n",
    "plt.xlim(0, 5); plt.ylim(0, 10)\n",
    "plt.plot(np.arange(0, 5, 0.1), np.arange(0, 10, 0.2),'--')\n",
    "plt.grid()"
   ]
  },
  {
   "cell_type": "code",
   "execution_count": 7,
   "metadata": {},
   "outputs": [],
   "source": [
    "# Error function\n",
    "def error(m, x, y):\n",
    "    total = 0\n",
    "    for xi, yi in zip(x, y):\n",
    "        total += pow(yi - m*xi, 2)\n",
    "    return total / len(x)"
   ]
  },
  {
   "cell_type": "code",
   "execution_count": 9,
   "metadata": {},
   "outputs": [],
   "source": [
    "# Function for calculating gradient\n",
    "def gradient(m, x, y):\n",
    "    total = 0\n",
    "    for xi, yi in zip(x, y):\n",
    "        total += (-2 * xi * yi) + (2 * m * pow(xi, 2))\n",
    "    return total / len(x)"
   ]
  },
  {
   "cell_type": "code",
   "execution_count": 16,
   "metadata": {},
   "outputs": [],
   "source": [
    "# Gradient descent\n",
    "def gradient_descent(x, y, m=0, alpha=0.02, max_step=20):\n",
    "    \"\"\"\n",
    "    x: input of training data\n",
    "    y: labels of training data\n",
    "    m: initial value of m\n",
    "    alpha: learning rate\n",
    "    \"\"\"\n",
    "    step = 0\n",
    "    while step < max_step:\n",
    "        e = error(m, x, y)\n",
    "        m = m - alpha * gradient(m, x, y)\n",
    "        print(\"Step {:2d}: error = {:7.4f}, m updated to {:.4f}\".format(step, e, m))\n",
    "        step += 1\n",
    "    return m\n"
   ]
  },
  {
   "cell_type": "code",
   "execution_count": 17,
   "metadata": {},
   "outputs": [
    {
     "name": "stdout",
     "output_type": "stream",
     "text": [
      "Step  0: error = 30.9875, m updated to 0.6070\n",
      "Step  1: error = 15.3284, m updated to 1.0319\n",
      "Step  2: error =  7.6555, m updated to 1.3293\n",
      "Step  3: error =  3.8957, m updated to 1.5375\n",
      "Step  4: error =  2.0534, m updated to 1.6833\n",
      "Step  5: error =  1.1507, m updated to 1.7853\n",
      "Step  6: error =  0.7084, m updated to 1.8567\n",
      "Step  7: error =  0.4917, m updated to 1.9067\n",
      "Step  8: error =  0.3855, m updated to 1.9417\n",
      "Step  9: error =  0.3334, m updated to 1.9662\n",
      "Step 10: error =  0.3079, m updated to 1.9833\n",
      "Step 11: error =  0.2954, m updated to 1.9953\n",
      "Step 12: error =  0.2893, m updated to 2.0037\n",
      "Step 13: error =  0.2863, m updated to 2.0096\n",
      "Step 14: error =  0.2848, m updated to 2.0137\n",
      "Step 15: error =  0.2841, m updated to 2.0166\n",
      "Step 16: error =  0.2838, m updated to 2.0186\n",
      "Step 17: error =  0.2836, m updated to 2.0200\n",
      "Step 18: error =  0.2835, m updated to 2.0210\n",
      "Step 19: error =  0.2835, m updated to 2.0217\n"
     ]
    },
    {
     "data": {
      "text/plain": [
       "2.0217188698119117"
      ]
     },
     "execution_count": 17,
     "metadata": {},
     "output_type": "execute_result"
    }
   ],
   "source": [
    "# Perform gradient descent for 20 steps\n",
    "gradient_descent(x, y)"
   ]
  },
  {
   "cell_type": "code",
   "execution_count": 21,
   "metadata": {},
   "outputs": [
    {
     "data": {
      "image/png": "[encoded data removed]",
      "text/plain": [
       "<matplotlib.figure.Figure at 0x7fad1e495cc0>"
      ]
     },
     "metadata": {},
     "output_type": "display_data"
    }
   ],
   "source": [
    "# Plotting error against value of m\n",
    "m = np.arange(-1, 5, 0.1)\n",
    "errors = [error(mi, x, y) for mi in m]\n",
    "\n",
    "plt.figure(figsize=(4, 6))\n",
    "plt.plot(m, errors)\n",
    "plt.xlabel(\"m\", fontsize=14)\n",
    "plt.ylabel(\"error\", fontsize=14)\n",
    "plt.grid()"
   ]
  },
  {
   "cell_type": "code",
   "execution_count": null,
   "metadata": {},
   "outputs": [],
   "source": []
  }
 ],
 "metadata": {
  "kernelspec": {
   "display_name": "Python 3",
   "language": "python",
   "name": "python3"
  },
  "language_info": {
   "codemirror_mode": {
    "name": "ipython",
    "version": 3
   },
   "file_extension": ".py",
   "mimetype": "text/x-python",
   "name": "python",
   "nbconvert_exporter": "python",
   "pygments_lexer": "ipython3",
   "version": "3.5.2"
  }
 },
 "nbformat": 4,
 "nbformat_minor": 2
}
