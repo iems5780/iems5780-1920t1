{
  "nbformat": 4,
  "nbformat_minor": 0,
  "metadata": {
    "colab": {
      "name": "l3-text-naive-bayes.ipynb",
      "version": "0.3.2",
      "provenance": [],
      "collapsed_sections": []
    },
    "kernelspec": {
      "name": "python3",
      "display_name": "Python 3"
    }
  },
  "cells": [
    {
      "metadata": {
        "id": "JB3TUfMBf37A",
        "colab_type": "code",
        "colab": {}
      },
      "cell_type": "code",
      "source": [
        "# Import required modules and classes\n",
        "%matplotlib inline\n",
        "import matplotlib.pyplot as plt\n",
        "from sklearn.naive_bayes import MultinomialNB\n",
        "from sklearn.feature_extraction.text import CountVectorizer"
      ],
      "execution_count": 0,
      "outputs": []
    },
    {
      "metadata": {
        "id": "ROuDZnkog4vm",
        "colab_type": "code",
        "colab": {}
      },
      "cell_type": "code",
      "source": [
        "# Our data\n",
        "# We have 3 documents, each is a string.\n",
        "# The labels indicate whether the document is about CUHK\n",
        "docs = [\n",
        "    \"CUHK is a university in Hong Kong\",\n",
        "    \"Hong Kong is a city in Southeast Asia\",\n",
        "    \"Asia is the most populous continent\",\n",
        "]\n",
        "labels = [1, 0, 0]"
      ],
      "execution_count": 0,
      "outputs": []
    },
    {
      "metadata": {
        "id": "Xer_rr9Dg8RP",
        "colab_type": "code",
        "colab": {}
      },
      "cell_type": "code",
      "source": [
        "# Initialize the vectorizer and the LR model\n",
        "vectorizer = CountVectorizer()\n",
        "model = MultinomialNB()"
      ],
      "execution_count": 0,
      "outputs": []
    },
    {
      "metadata": {
        "id": "UsLUFVMrg_od",
        "colab_type": "code",
        "colab": {
          "base_uri": "https://localhost:8080/",
          "height": 35
        },
        "outputId": "2508c2d8-3df2-4885-8615-a8acef8be081"
      },
      "cell_type": "code",
      "source": [
        "# Train the vectorizer and the model\n",
        "# We use fit_transform to fit the model and transform\n",
        "# our documents into feature vectors in one step\n",
        "X = vectorizer.fit_transform(docs)\n",
        "model.fit(X, labels)"
      ],
      "execution_count": 4,
      "outputs": [
        {
          "output_type": "execute_result",
          "data": {
            "text/plain": [
              "MultinomialNB(alpha=1.0, class_prior=None, fit_prior=True)"
            ]
          },
          "metadata": {
            "tags": []
          },
          "execution_count": 4
        }
      ]
    },
    {
      "metadata": {
        "id": "HUXWgajthA6V",
        "colab_type": "code",
        "colab": {
          "base_uri": "https://localhost:8080/",
          "height": 35
        },
        "outputId": "260c7873-6dd2-47c5-c4ba-61473b629d3e"
      },
      "cell_type": "code",
      "source": [
        "# Let's try applying the model on a new document\n",
        "model.predict_proba(vectorizer.transform([\"CUHK university\"]))"
      ],
      "execution_count": 8,
      "outputs": [
        {
          "output_type": "execute_result",
          "data": {
            "text/plain": [
              "array([[0.21074139, 0.78925861]])"
            ]
          },
          "metadata": {
            "tags": []
          },
          "execution_count": 8
        }
      ]
    },
    {
      "metadata": {
        "id": "V3QCaluRiakl",
        "colab_type": "code",
        "colab": {
          "base_uri": "https://localhost:8080/",
          "height": 53
        },
        "outputId": "563e5a74-2102-44d1-fb37-93c280926538"
      },
      "cell_type": "code",
      "source": [
        "# Let's check the parameters\n",
        "# Firstly: the probability of each class\n",
        "import math\n",
        "log_proba = model.class_log_prior_\n",
        "print(\"Probability of class 0: {:.4f}\".format(pow(math.e, log_proba[0])))\n",
        "print(\"Probability of class 1: {:.4f}\".format(pow(math.e, log_proba[1])))"
      ],
      "execution_count": 11,
      "outputs": [
        {
          "output_type": "stream",
          "text": [
            "Probability of class 0: 0.6667\n",
            "Probability of class 1: 0.3333\n"
          ],
          "name": "stdout"
        }
      ]
    },
    {
      "metadata": {
        "id": "gvsz0j1LifWV",
        "colab_type": "code",
        "colab": {
          "base_uri": "https://localhost:8080/",
          "height": 544
        },
        "outputId": "c6f03614-4b1a-45f7-f1d6-9aab36078bb7"
      },
      "cell_type": "code",
      "source": [
        "# Next, we check the probabilities P(w|c)\n",
        "# (the probability of a word given a class)\n",
        "vocabulary = vectorizer.vocabulary_\n",
        "log_proba = model.feature_log_prob_\n",
        "print(\"For class 0:\")\n",
        "for word, wid in vocabulary.items():\n",
        "    p = pow(math.e, log_proba[0][wid])\n",
        "    print(\"{:12s}: {:.4f}\".format(word, p))\n",
        "\n",
        "print(\"=\" * 20)\n",
        "print(\"For class 1:\")\n",
        "for word, wid in vocabulary.items():\n",
        "    p = pow(math.e, log_proba[1][wid])\n",
        "    print(\"{:12s}: {:.4f}\".format(word, p))"
      ],
      "execution_count": 19,
      "outputs": [
        {
          "output_type": "stream",
          "text": [
            "For class 0:\n",
            "cuhk        : 0.0385\n",
            "is          : 0.1154\n",
            "university  : 0.0385\n",
            "in          : 0.0769\n",
            "hong        : 0.0769\n",
            "kong        : 0.0769\n",
            "city        : 0.0769\n",
            "southeast   : 0.0769\n",
            "asia        : 0.1154\n",
            "the         : 0.0769\n",
            "most        : 0.0769\n",
            "populous    : 0.0769\n",
            "continent   : 0.0769\n",
            "====================\n",
            "For class 1:\n",
            "cuhk        : 0.1053\n",
            "is          : 0.1053\n",
            "university  : 0.1053\n",
            "in          : 0.1053\n",
            "hong        : 0.1053\n",
            "kong        : 0.1053\n",
            "city        : 0.0526\n",
            "southeast   : 0.0526\n",
            "asia        : 0.0526\n",
            "the         : 0.0526\n",
            "most        : 0.0526\n",
            "populous    : 0.0526\n",
            "continent   : 0.0526\n"
          ],
          "name": "stdout"
        }
      ]
    },
    {
      "metadata": {
        "id": "uDJA5iv2jJCt",
        "colab_type": "code",
        "colab": {}
      },
      "cell_type": "code",
      "source": [
        ""
      ],
      "execution_count": 0,
      "outputs": []
    }
  ]
}