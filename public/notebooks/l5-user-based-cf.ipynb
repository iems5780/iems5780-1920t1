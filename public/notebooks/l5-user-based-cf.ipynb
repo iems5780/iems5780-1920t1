{
 "cells": [
  {
   "cell_type": "code",
   "execution_count": 46,
   "metadata": {},
   "outputs": [],
   "source": [
    "import numpy as np\n",
    "from scipy.stats import pearsonr"
   ]
  },
  {
   "cell_type": "code",
   "execution_count": 47,
   "metadata": {},
   "outputs": [],
   "source": [
    "# 4 users, 5 items\n",
    "# 0 means the user has not rated that item\n",
    "matrix = [\n",
    "    [5, 5, 0, 1, 2],\n",
    "    [4, 5, 0, 0, 1],\n",
    "    [1, 2, 5, 0, 0],\n",
    "    [1, 0, 5, 0, 4]\n",
    "]"
   ]
  },
  {
   "cell_type": "code",
   "execution_count": 48,
   "metadata": {},
   "outputs": [],
   "source": [
    "# similarity between users\n",
    "def similarity(u1, u2):\n",
    "    r, _ = pearsonr(matrix[u1], matrix[u2])\n",
    "    return r"
   ]
  },
  {
   "cell_type": "code",
   "execution_count": 49,
   "metadata": {},
   "outputs": [
    {
     "name": "stdout",
     "output_type": "stream",
     "text": [
      "Similarity between user 1 and 0: 0.972389\n",
      "Similarity between user 1 and 2: -0.102815\n",
      "Similarity between user 1 and 3: -0.545455\n"
     ]
    }
   ],
   "source": [
    "# Similarity between user 1 and other users\n",
    "for i in range(4):\n",
    "    if i != 1:\n",
    "        print(\"Similarity between user 1 and {}: {:4f}\".format(\n",
    "            i, similarity(1, i)))"
   ]
  },
  {
   "cell_type": "code",
   "execution_count": 50,
   "metadata": {},
   "outputs": [
    {
     "data": {
      "text/plain": [
       "1.1454581510992052"
      ]
     },
     "execution_count": 50,
     "metadata": {},
     "output_type": "execute_result"
    }
   ],
   "source": [
    "# Predicting user 1's rating on item 3\n",
    "r_mean_1 = np.mean([r for r in matrix[1] if r > 0])\n",
    "r_mean_0 = np.mean([r for r in matrix[0] if r > 0])\n",
    "sim_0_1 = similarity(0, 1)\n",
    "\n",
    "pred_u1_i3 = r_mean_1 + (sim_0_1 * (matrix[0][3] - r_mean_0))\n",
    "pred_u1_i3"
   ]
  },
  {
   "cell_type": "code",
   "execution_count": null,
   "metadata": {},
   "outputs": [],
   "source": []
  },
  {
   "cell_type": "code",
   "execution_count": null,
   "metadata": {},
   "outputs": [],
   "source": []
  }
 ],
 "metadata": {
  "kernelspec": {
   "display_name": "Python 3",
   "language": "python",
   "name": "python3"
  },
  "language_info": {
   "codemirror_mode": {
    "name": "ipython",
    "version": 3
   },
   "file_extension": ".py",
   "mimetype": "text/x-python",
   "name": "python",
   "nbconvert_exporter": "python",
   "pygments_lexer": "ipython3",
   "version": "3.5.2"
  }
 },
 "nbformat": 4,
 "nbformat_minor": 2
}
